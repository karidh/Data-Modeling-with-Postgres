{
 "cells": [
  {
   "cell_type": "code",
   "execution_count": null,
   "metadata": {
    "editable": true
   },
   "outputs": [],
   "source": [
    "try:\n",
    "    cur.execute(\"CREATE TABLE IF NOT EXISTS users(user_id int , first_name varchar, last_name varchar, gender varchar, level varchar);\")\n",
    "    cur.execute(\"CREATE TABLE IF NOT EXISTS songs (song_id varchar, title varchar, artist_id varchar, year int, duration float);\")\n",
    "    cur.execute(\"CREATE TABLE IF NOT EXISTS artists(artist_id varchar, name varchar, location varchar, latitude varchar, longitude varchar);\")\n",
    "    cur.execute(\"CREATE TABLE IF NOT EXISTS time(start_time int, hour int, day int, week int, month int, year int, weekday int);\")\n",
    "    cur.execute(\"CREATE TABLE IF NOT EXISTS songsplays(songplay_id int, start_time int, user_id int, level varchar, song_id varchar, artist_id varchar, session_id int , location varchar, user_agent varchar);\")\n",
    "except e:\n",
    "    print(\"Error\",e)"
   ]
  }
 ],
 "metadata": {
  "kernelspec": {
   "display_name": "Python 3",
   "language": "python",
   "name": "python3"
  },
  "language_info": {
   "codemirror_mode": {
    "name": "ipython",
    "version": 3
   },
   "file_extension": ".py",
   "mimetype": "text/x-python",
   "name": "python",
   "nbconvert_exporter": "python",
   "pygments_lexer": "ipython3",
   "version": "3.6.3"
  }
 },
 "nbformat": 4,
 "nbformat_minor": 4
}
